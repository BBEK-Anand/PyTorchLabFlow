{
 "cells": [
  {
   "cell_type": "code",
   "execution_count": null,
   "id": "b13c2a25-4610-4f89-ba95-fc9a436528f2",
   "metadata": {},
   "outputs": [],
   "source": [
    "from PTLF.lab import lab_setup\n",
    "lab_setup(settings_path='path/to/your/project/dir/project_name.json')\n",
    "\n",
    "from PTLF.experiment import PipeLine, get_exps"
   ]
  },
  {
   "cell_type": "code",
   "execution_count": 4,
   "id": "360a91bd-6379-4276-8f83-9e45f4c8184b",
   "metadata": {},
   "outputs": [
    {
     "data": {
      "text/plain": [
       "['exp1']"
      ]
     },
     "execution_count": 4,
     "metadata": {},
     "output_type": "execute_result"
    }
   ],
   "source": [
    "get_exps()"
   ]
  },
  {
   "cell_type": "code",
   "execution_count": 9,
   "id": "790758da-d9f9-4605-8f60-153c9834a575",
   "metadata": {},
   "outputs": [
    {
     "name": "stdout",
     "output_type": "stream",
     "text": [
      "memory available=2048729088<=5368709120 --> pin_memory={pin_memory}\n",
      "memory available=2048462848<=5368709120 --> pin_memory={pin_memory}\n",
      "Data loaders are successfully created\n"
     ]
    }
   ],
   "source": [
    "P = PipeLine()\n",
    "P.load(expid='exp1',prepare=True)"
   ]
  },
  {
   "cell_type": "code",
   "execution_count": 10,
   "id": "828e70a6-6c09-46c0-be93-cc7585469dd1",
   "metadata": {},
   "outputs": [
    {
     "name": "stderr",
     "output_type": "stream",
     "text": [
      "Epoch 11: 100%|███████████████| 880/880 [00:16<00:00, 52.59it/s, auprc=0.11, auroc=0.529]\n",
      "Epoch 11: 100%|████████████████████████████████████████| 189/189 [00:02<00:00, 87.50it/s]\n"
     ]
    },
    {
     "name": "stdout",
     "output_type": "stream",
     "text": [
      "Best Model Weights Updated: Epoch 11 - Val Loss: 0.5590620487139969\n"
     ]
    },
    {
     "name": "stderr",
     "output_type": "stream",
     "text": [
      "Epoch 12: 100%|███████████████| 880/880 [00:15<00:00, 56.24it/s, auprc=0.13, auroc=0.544]\n",
      "Epoch 12: 100%|████████████████████████████████████████| 189/189 [00:02<00:00, 85.66it/s]\n",
      "Epoch 13: 100%|███████████████| 880/880 [00:15<00:00, 55.37it/s, auprc=0.204, auroc=0.58]\n",
      "Epoch 13: 100%|████████████████████████████████████████| 189/189 [00:02<00:00, 86.70it/s]\n"
     ]
    },
    {
     "name": "stdout",
     "output_type": "stream",
     "text": [
      "Best Model Weights Updated: Epoch 13 - Val Loss: 0.5247372899736676\n"
     ]
    },
    {
     "name": "stderr",
     "output_type": "stream",
     "text": [
      "Epoch 14: 100%|██████████████| 880/880 [00:15<00:00, 56.76it/s, auprc=0.265, auroc=0.601]\n",
      "Epoch 14: 100%|████████████████████████████████████████| 189/189 [00:02<00:00, 87.67it/s]\n"
     ]
    },
    {
     "name": "stdout",
     "output_type": "stream",
     "text": [
      "Best Model Weights Updated: Epoch 14 - Val Loss: 0.5198760475746538\n"
     ]
    },
    {
     "name": "stderr",
     "output_type": "stream",
     "text": [
      "Epoch 15: 100%|██████████████| 880/880 [00:15<00:00, 56.56it/s, auprc=0.224, auroc=0.596]\n",
      "Epoch 15: 100%|████████████████████████████████████████| 189/189 [00:02<00:00, 86.66it/s]\n"
     ]
    },
    {
     "name": "stdout",
     "output_type": "stream",
     "text": [
      "Best Model Weights Updated: Epoch 15 - Val Loss: 0.5332258383117655\n"
     ]
    },
    {
     "name": "stderr",
     "output_type": "stream",
     "text": [
      "Epoch 16: 100%|███████████████| 880/880 [00:16<00:00, 54.66it/s, auprc=0.253, auroc=0.61]\n",
      "Epoch 16: 100%|████████████████████████████████████████| 189/189 [00:02<00:00, 88.06it/s]\n"
     ]
    },
    {
     "name": "stdout",
     "output_type": "stream",
     "text": [
      "Best Model Weights Updated: Epoch 16 - Val Loss: 0.5063389350497534\n"
     ]
    },
    {
     "name": "stderr",
     "output_type": "stream",
     "text": [
      "Epoch 17: 100%|█████████████▉| 877/880 [00:15<00:00, 58.74it/s, auprc=0.289, auroc=0.611]D:\\Anna\\envs\\py310\\lib\\site-packages\\sklearn\\metrics\\_ranking.py:379: UndefinedMetricWarning: Only one class is present in y_true. ROC AUC score is not defined in that case.\n",
      "  warnings.warn(\n",
      "D:\\Anna\\envs\\py310\\lib\\site-packages\\sklearn\\metrics\\_ranking.py:1033: UserWarning: No positive class found in y_true, recall is set to one for all thresholds.\n",
      "  warnings.warn(\n",
      "D:\\Anna\\envs\\py310\\lib\\site-packages\\sklearn\\metrics\\_classification.py:1565: UndefinedMetricWarning: F-score is ill-defined and being set to 0.0 due to no true nor predicted samples. Use `zero_division` parameter to control this behavior.\n",
      "  _warn_prf(average, modifier, f\"{metric.capitalize()} is\", len(result))\n",
      "Epoch 17: 100%|████████████████| 880/880 [00:15<00:00, 56.35it/s, auprc=0.289, auroc=nan]\n",
      "Epoch 17: 100%|████████████████████████████████████████| 189/189 [00:02<00:00, 90.57it/s]\n",
      "Epoch 18: 100%|█████████████| 880/880 [00:16<00:00, 53.47it/s, auprc=0.0621, auroc=0.528]\n",
      "Epoch 18: 100%|████████████████████████████████████████| 189/189 [00:02<00:00, 86.67it/s]\n"
     ]
    },
    {
     "name": "stdout",
     "output_type": "stream",
     "text": [
      "Best Model Weights Updated: Epoch 18 - Val Loss: 0.54844229971921\n"
     ]
    },
    {
     "name": "stderr",
     "output_type": "stream",
     "text": [
      "Epoch 19: 100%|█████████████| 880/880 [00:15<00:00, 56.09it/s, auprc=0.0455, auroc=0.512]\n",
      "Epoch 19: 100%|████████████████████████████████████████| 189/189 [00:02<00:00, 90.46it/s]\n"
     ]
    },
    {
     "name": "stdout",
     "output_type": "stream",
     "text": [
      "Best Model Weights Updated: Epoch 19 - Val Loss: 0.556830272630409\n"
     ]
    },
    {
     "name": "stderr",
     "output_type": "stream",
     "text": [
      "Epoch 20: 100%|█████████████| 880/880 [00:15<00:00, 56.64it/s, auprc=0.0219, auroc=0.505]\n",
      "Epoch 20:  98%|███████████████████████████████████████▎| 186/189 [00:02<00:00, 84.03it/s]D:\\Anna\\envs\\py310\\lib\\site-packages\\sklearn\\metrics\\_ranking.py:379: UndefinedMetricWarning: Only one class is present in y_true. ROC AUC score is not defined in that case.\n",
      "  warnings.warn(\n",
      "D:\\Anna\\envs\\py310\\lib\\site-packages\\sklearn\\metrics\\_ranking.py:1033: UserWarning: No positive class found in y_true, recall is set to one for all thresholds.\n",
      "  warnings.warn(\n",
      "D:\\Anna\\envs\\py310\\lib\\site-packages\\sklearn\\metrics\\_classification.py:1565: UndefinedMetricWarning: F-score is ill-defined and being set to 0.0 due to no true nor predicted samples. Use `zero_division` parameter to control this behavior.\n",
      "  _warn_prf(average, modifier, f\"{metric.capitalize()} is\", len(result))\n",
      "Epoch 20: 100%|████████████████████████████████████████| 189/189 [00:02<00:00, 87.09it/s]\n"
     ]
    },
    {
     "name": "stdout",
     "output_type": "stream",
     "text": [
      "Best Model Weights Updated: Epoch 20 - Val Loss: 0.5590866274303861\n",
      "Finished Training\n"
     ]
    }
   ],
   "source": [
    "P.train(num_epochs=10,self_patience=5, verbose=[\"auroc\",\"auprc\"])"
   ]
  },
  {
   "cell_type": "code",
   "execution_count": 11,
   "id": "dcedba16-888c-4b46-adcb-6e2650cd8858",
   "metadata": {},
   "outputs": [
    {
     "name": "stdout",
     "output_type": "stream",
     "text": [
      "memory available=2021949440<=5368709120 --> pin_memory={pin_memory}\n",
      "memory available=2021650432<=5368709120 --> pin_memory={pin_memory}\n",
      "Data loaders are successfully created\n"
     ]
    },
    {
     "name": "stderr",
     "output_type": "stream",
     "text": [
      "Epoch 1: 100%|███████████████| 880/880 [00:13<00:00, 65.59it/s, auprc=0.0115, auroc=0.51]\n",
      "Epoch 1: 100%|█████████████████████████████████████████| 189/189 [00:02<00:00, 88.70it/s]\n"
     ]
    },
    {
     "name": "stdout",
     "output_type": "stream",
     "text": [
      "Best Model Weights Updated: Epoch 1 - Val Loss: 0.5594268625690824\n"
     ]
    },
    {
     "name": "stderr",
     "output_type": "stream",
     "text": [
      "Epoch 2: 100%|█████████████| 880/880 [00:13<00:00, 65.79it/s, auprc=0.00544, auroc=0.502]\n",
      "Epoch 2: 100%|█████████████████████████████████████████| 189/189 [00:02<00:00, 85.00it/s]\n"
     ]
    },
    {
     "name": "stdout",
     "output_type": "stream",
     "text": [
      "Best Model Weights Updated: Epoch 2 - Val Loss: 0.5638925592419962\n"
     ]
    },
    {
     "name": "stderr",
     "output_type": "stream",
     "text": [
      "Epoch 3:  99%|████████████▉| 875/880 [00:13<00:00, 64.88it/s, auprc=0.00543, auroc=0.502]D:\\Anna\\envs\\py310\\lib\\site-packages\\sklearn\\metrics\\_ranking.py:379: UndefinedMetricWarning: Only one class is present in y_true. ROC AUC score is not defined in that case.\n",
      "  warnings.warn(\n",
      "D:\\Anna\\envs\\py310\\lib\\site-packages\\sklearn\\metrics\\_ranking.py:1033: UserWarning: No positive class found in y_true, recall is set to one for all thresholds.\n",
      "  warnings.warn(\n",
      "D:\\Anna\\envs\\py310\\lib\\site-packages\\sklearn\\metrics\\_classification.py:1565: UndefinedMetricWarning: F-score is ill-defined and being set to 0.0 due to no true nor predicted samples. Use `zero_division` parameter to control this behavior.\n",
      "  _warn_prf(average, modifier, f\"{metric.capitalize()} is\", len(result))\n",
      "Epoch 3: 100%|███████████████| 880/880 [00:13<00:00, 63.12it/s, auprc=0.00542, auroc=nan]\n",
      "Epoch 3: 100%|█████████████████████████████████████████| 189/189 [00:02<00:00, 71.40it/s]\n"
     ]
    },
    {
     "name": "stdout",
     "output_type": "stream",
     "text": [
      "Best Model Weights Updated: Epoch 3 - Val Loss: 0.5598109817063367\n"
     ]
    },
    {
     "name": "stderr",
     "output_type": "stream",
     "text": [
      "Epoch 4: 100%|█████████████| 880/880 [00:13<00:00, 65.27it/s, auprc=0.00536, auroc=0.501]\n",
      "Epoch 4: 100%|█████████████████████████████████████████| 189/189 [00:02<00:00, 88.51it/s]\n"
     ]
    },
    {
     "name": "stdout",
     "output_type": "stream",
     "text": [
      "Best Model Weights Updated: Epoch 4 - Val Loss: 0.5589880902300436\n"
     ]
    },
    {
     "name": "stderr",
     "output_type": "stream",
     "text": [
      "Epoch 5: 100%|████████████▉| 878/880 [00:13<00:00, 65.63it/s, auprc=0.00588, auroc=0.502]D:\\Anna\\envs\\py310\\lib\\site-packages\\sklearn\\metrics\\_ranking.py:379: UndefinedMetricWarning: Only one class is present in y_true. ROC AUC score is not defined in that case.\n",
      "  warnings.warn(\n",
      "D:\\Anna\\envs\\py310\\lib\\site-packages\\sklearn\\metrics\\_ranking.py:1033: UserWarning: No positive class found in y_true, recall is set to one for all thresholds.\n",
      "  warnings.warn(\n",
      "D:\\Anna\\envs\\py310\\lib\\site-packages\\sklearn\\metrics\\_classification.py:1565: UndefinedMetricWarning: F-score is ill-defined and being set to 0.0 due to no true nor predicted samples. Use `zero_division` parameter to control this behavior.\n",
      "  _warn_prf(average, modifier, f\"{metric.capitalize()} is\", len(result))\n",
      "Epoch 5: 100%|███████████████| 880/880 [00:13<00:00, 67.13it/s, auprc=0.00587, auroc=nan]\n",
      "Epoch 5: 100%|█████████████████████████████████████████| 189/189 [00:02<00:00, 87.86it/s]\n"
     ]
    },
    {
     "name": "stdout",
     "output_type": "stream",
     "text": [
      "Best Model Weights Updated: Epoch 5 - Val Loss: 0.5593968976742376\n"
     ]
    },
    {
     "name": "stderr",
     "output_type": "stream",
     "text": [
      "Epoch 6: 100%|█████████████| 880/880 [00:13<00:00, 66.81it/s, auprc=0.00575, auroc=0.502]\n",
      "Epoch 6: 100%|█████████████████████████████████████████| 189/189 [00:02<00:00, 91.25it/s]\n"
     ]
    },
    {
     "name": "stdout",
     "output_type": "stream",
     "text": [
      "Best Model Weights Updated: Epoch 6 - Val Loss: 0.5592148053267646\n"
     ]
    },
    {
     "name": "stderr",
     "output_type": "stream",
     "text": [
      "Epoch 7: 100%|█████████████| 880/880 [00:12<00:00, 68.02it/s, auprc=0.00547, auroc=0.502]\n",
      "Epoch 7: 100%|█████████████████████████████████████████| 189/189 [00:02<00:00, 90.15it/s]\n"
     ]
    },
    {
     "name": "stdout",
     "output_type": "stream",
     "text": [
      "Best Model Weights Updated: Epoch 7 - Val Loss: 0.5607373260316395\n"
     ]
    },
    {
     "name": "stderr",
     "output_type": "stream",
     "text": [
      "Epoch 8: 100%|█████████████| 880/880 [00:12<00:00, 67.86it/s, auprc=0.00546, auroc=0.502]\n",
      "Epoch 8: 100%|█████████████████████████████████████████| 189/189 [00:02<00:00, 89.53it/s]\n"
     ]
    },
    {
     "name": "stdout",
     "output_type": "stream",
     "text": [
      "Best Model Weights Updated: Epoch 8 - Val Loss: 0.5634525339439432\n"
     ]
    },
    {
     "name": "stderr",
     "output_type": "stream",
     "text": [
      "Epoch 9: 100%|█████████████| 880/880 [00:13<00:00, 67.21it/s, auprc=0.00576, auroc=0.502]\n",
      "Epoch 9: 100%|█████████████████████████████████████████| 189/189 [00:02<00:00, 88.76it/s]\n"
     ]
    },
    {
     "name": "stdout",
     "output_type": "stream",
     "text": [
      "Best Model Weights Updated: Epoch 9 - Val Loss: 0.5601354138876395\n"
     ]
    },
    {
     "name": "stderr",
     "output_type": "stream",
     "text": [
      "Epoch 10: 100%|████████████| 880/880 [00:13<00:00, 67.50it/s, auprc=0.00544, auroc=0.502]\n",
      "Epoch 10: 100%|████████████████████████████████████████| 189/189 [00:02<00:00, 90.05it/s]\n"
     ]
    },
    {
     "name": "stdout",
     "output_type": "stream",
     "text": [
      "Best Model Weights Updated: Epoch 10 - Val Loss: 0.5597034196058909\n",
      "Finished Training\n"
     ]
    }
   ],
   "source": [
    "P.load(expid='exp3',prepare=True)\n",
    "P.train(num_epochs=10,verbose=[\"auroc\",\"auprc\"])"
   ]
  },
  {
   "cell_type": "code",
   "execution_count": 8,
   "id": "5c1e6be7-2704-49f4-ad27-3a76e334c940",
   "metadata": {},
   "outputs": [
    {
     "name": "stdout",
     "output_type": "stream",
     "text": [
      "memory available=4591501312<=5368709120 --> pin_memory={pin_memory}\n",
      "memory available=4588584960<=5368709120 --> pin_memory={pin_memory}\n",
      "Data loaders are successfully created\n"
     ]
    },
    {
     "name": "stderr",
     "output_type": "stream",
     "text": [
      "Epoch 1: 100%|████████████████| 880/880 [00:16<00:00, 54.22it/s, auprc=0.0102, auroc=0.5]\n",
      "Epoch 1: 100%|█████████████████████████████████████████| 189/189 [00:02<00:00, 87.39it/s]\n"
     ]
    },
    {
     "name": "stdout",
     "output_type": "stream",
     "text": [
      "Best Model Weights Updated: Epoch 1 - Val Loss: 0.5601592847594509\n"
     ]
    },
    {
     "name": "stderr",
     "output_type": "stream",
     "text": [
      "Epoch 2: 100%|█████████████████████| 880/880 [00:15<00:00, 55.08it/s, auprc=0, auroc=0.5]\n",
      "Epoch 2: 100%|█████████████████████████████████████████| 189/189 [00:02<00:00, 85.26it/s]\n"
     ]
    },
    {
     "name": "stdout",
     "output_type": "stream",
     "text": [
      "Best Model Weights Updated: Epoch 2 - Val Loss: 0.5598126465366\n"
     ]
    },
    {
     "name": "stderr",
     "output_type": "stream",
     "text": [
      "Epoch 3: 100%|█████████████████████| 880/880 [00:16<00:00, 53.15it/s, auprc=0, auroc=0.5]\n",
      "Epoch 3: 100%|█████████████████████████████████████████| 189/189 [00:02<00:00, 86.60it/s]\n"
     ]
    },
    {
     "name": "stdout",
     "output_type": "stream",
     "text": [
      "Best Model Weights Updated: Epoch 3 - Val Loss: 0.5601009166745282\n"
     ]
    },
    {
     "name": "stderr",
     "output_type": "stream",
     "text": [
      "Epoch 4: 100%|█████████████████████| 880/880 [00:16<00:00, 53.59it/s, auprc=0, auroc=0.5]\n",
      "Epoch 4: 100%|█████████████████████████████████████████| 189/189 [00:02<00:00, 86.65it/s]\n"
     ]
    },
    {
     "name": "stdout",
     "output_type": "stream",
     "text": [
      "Best Model Weights Updated: Epoch 4 - Val Loss: 0.5598161130670517\n"
     ]
    },
    {
     "name": "stderr",
     "output_type": "stream",
     "text": [
      "Epoch 5: 100%|█████████████████████| 880/880 [00:16<00:00, 52.53it/s, auprc=0, auroc=0.5]\n",
      "Epoch 5: 100%|█████████████████████████████████████████| 189/189 [00:02<00:00, 87.57it/s]\n"
     ]
    },
    {
     "name": "stdout",
     "output_type": "stream",
     "text": [
      "Best Model Weights Updated: Epoch 5 - Val Loss: 0.5607020087027675\n"
     ]
    },
    {
     "name": "stderr",
     "output_type": "stream",
     "text": [
      "Epoch 6: 100%|█████████████████████| 880/880 [00:16<00:00, 52.55it/s, auprc=0, auroc=0.5]\n",
      "Epoch 6: 100%|█████████████████████████████████████████| 189/189 [00:02<00:00, 88.84it/s]\n"
     ]
    },
    {
     "name": "stdout",
     "output_type": "stream",
     "text": [
      "Best Model Weights Updated: Epoch 6 - Val Loss: 0.5601084624964093\n"
     ]
    },
    {
     "name": "stderr",
     "output_type": "stream",
     "text": [
      "Epoch 7: 100%|█████████████████████| 880/880 [00:16<00:00, 54.96it/s, auprc=0, auroc=0.5]\n",
      "Epoch 7: 100%|█████████████████████████████████████████| 189/189 [00:02<00:00, 89.66it/s]\n"
     ]
    },
    {
     "name": "stdout",
     "output_type": "stream",
     "text": [
      "Best Model Weights Updated: Epoch 7 - Val Loss: 0.5602123032486628\n"
     ]
    },
    {
     "name": "stderr",
     "output_type": "stream",
     "text": [
      "Epoch 8: 100%|█████████████████████| 880/880 [00:16<00:00, 53.18it/s, auprc=0, auroc=0.5]\n",
      "Epoch 8: 100%|█████████████████████████████████████████| 189/189 [00:02<00:00, 80.61it/s]\n"
     ]
    },
    {
     "name": "stdout",
     "output_type": "stream",
     "text": [
      "Best Model Weights Updated: Epoch 8 - Val Loss: 0.5597292435547662\n"
     ]
    },
    {
     "name": "stderr",
     "output_type": "stream",
     "text": [
      "Epoch 9: 100%|█████████████████████| 880/880 [00:17<00:00, 50.63it/s, auprc=0, auroc=0.5]\n",
      "Epoch 9: 100%|█████████████████████████████████████████| 189/189 [00:02<00:00, 88.95it/s]\n"
     ]
    },
    {
     "name": "stdout",
     "output_type": "stream",
     "text": [
      "Best Model Weights Updated: Epoch 9 - Val Loss: 0.5601638121895058\n"
     ]
    },
    {
     "name": "stderr",
     "output_type": "stream",
     "text": [
      "Epoch 10: 100%|████████████████████| 880/880 [00:16<00:00, 54.38it/s, auprc=0, auroc=0.5]\n",
      "Epoch 10: 100%|████████████████████████████████████████| 189/189 [00:02<00:00, 87.14it/s]\n"
     ]
    },
    {
     "name": "stdout",
     "output_type": "stream",
     "text": [
      "Best Model Weights Updated: Epoch 10 - Val Loss: 0.5609312875876351\n",
      "Finished Training\n"
     ]
    }
   ],
   "source": [
    "P = PipeLine()\n",
    "P.load(expid='exp3',prepare=True)\n",
    "P.train(num_epochs=10,verbose=[\"auroc\",\"auprc\"])"
   ]
  },
  {
   "cell_type": "code",
   "execution_count": 9,
   "id": "b5599bdf-ae8e-4d5e-9187-649d9f32b949",
   "metadata": {},
   "outputs": [
    {
     "name": "stdout",
     "output_type": "stream",
     "text": [
      "memory available=4294852608<=5368709120 --> pin_memory={pin_memory}\n",
      "memory available=4294799360<=5368709120 --> pin_memory={pin_memory}\n",
      "Data loaders are successfully created\n"
     ]
    },
    {
     "name": "stderr",
     "output_type": "stream",
     "text": [
      "Epoch 1: 100%|██████████████| 880/880 [00:13<00:00, 65.07it/s, auprc=0.0162, auroc=0.504]\n",
      "Epoch 1: 100%|█████████████████████████████████████████| 189/189 [00:02<00:00, 87.59it/s]\n"
     ]
    },
    {
     "name": "stdout",
     "output_type": "stream",
     "text": [
      "Best Model Weights Updated: Epoch 1 - Val Loss: 0.5597268519578157\n"
     ]
    },
    {
     "name": "stderr",
     "output_type": "stream",
     "text": [
      "Epoch 2: 100%|██████████████| 880/880 [00:13<00:00, 66.05it/s, auprc=0.0119, auroc=0.503]\n",
      "Epoch 2: 100%|█████████████████████████████████████████| 189/189 [00:02<00:00, 85.27it/s]\n"
     ]
    },
    {
     "name": "stdout",
     "output_type": "stream",
     "text": [
      "Best Model Weights Updated: Epoch 2 - Val Loss: 0.5583598891263286\n"
     ]
    },
    {
     "name": "stderr",
     "output_type": "stream",
     "text": [
      "Epoch 3: 100%|██████████████| 880/880 [00:13<00:00, 66.38it/s, auprc=0.0117, auroc=0.503]\n",
      "Epoch 3: 100%|█████████████████████████████████████████| 189/189 [00:02<00:00, 83.52it/s]\n"
     ]
    },
    {
     "name": "stdout",
     "output_type": "stream",
     "text": [
      "Best Model Weights Updated: Epoch 3 - Val Loss: 0.55890601731482\n"
     ]
    },
    {
     "name": "stderr",
     "output_type": "stream",
     "text": [
      "Epoch 4: 100%|██████████████| 880/880 [00:13<00:00, 65.99it/s, auprc=0.0126, auroc=0.504]\n",
      "Epoch 4: 100%|█████████████████████████████████████████| 189/189 [00:02<00:00, 87.33it/s]\n"
     ]
    },
    {
     "name": "stdout",
     "output_type": "stream",
     "text": [
      "Best Model Weights Updated: Epoch 4 - Val Loss: 0.5603520348273888\n"
     ]
    },
    {
     "name": "stderr",
     "output_type": "stream",
     "text": [
      "Epoch 5: 100%|██████████████| 880/880 [00:13<00:00, 65.11it/s, auprc=0.0129, auroc=0.504]\n",
      "Epoch 5: 100%|█████████████████████████████████████████| 189/189 [00:02<00:00, 87.59it/s]\n"
     ]
    },
    {
     "name": "stdout",
     "output_type": "stream",
     "text": [
      "Best Model Weights Updated: Epoch 5 - Val Loss: 0.558704364552069\n"
     ]
    },
    {
     "name": "stderr",
     "output_type": "stream",
     "text": [
      "Epoch 6: 100%|██████████████| 880/880 [00:13<00:00, 64.44it/s, auprc=0.0122, auroc=0.503]\n",
      "Epoch 6: 100%|█████████████████████████████████████████| 189/189 [00:02<00:00, 87.68it/s]\n"
     ]
    },
    {
     "name": "stdout",
     "output_type": "stream",
     "text": [
      "Best Model Weights Updated: Epoch 6 - Val Loss: 0.5588035917786695\n"
     ]
    },
    {
     "name": "stderr",
     "output_type": "stream",
     "text": [
      "Epoch 7: 100%|███████████████| 880/880 [00:13<00:00, 66.36it/s, auprc=0.013, auroc=0.504]\n",
      "Epoch 7: 100%|█████████████████████████████████████████| 189/189 [00:02<00:00, 88.12it/s]\n"
     ]
    },
    {
     "name": "stdout",
     "output_type": "stream",
     "text": [
      "Best Model Weights Updated: Epoch 7 - Val Loss: 0.5589061079832612\n"
     ]
    },
    {
     "name": "stderr",
     "output_type": "stream",
     "text": [
      "Epoch 8: 100%|██████████████| 880/880 [00:13<00:00, 67.01it/s, auprc=0.0122, auroc=0.503]\n",
      "Epoch 8: 100%|█████████████████████████████████████████| 189/189 [00:02<00:00, 87.93it/s]\n"
     ]
    },
    {
     "name": "stdout",
     "output_type": "stream",
     "text": [
      "Best Model Weights Updated: Epoch 8 - Val Loss: 0.5591069822588925\n"
     ]
    },
    {
     "name": "stderr",
     "output_type": "stream",
     "text": [
      "Epoch 9: 100%|██████████████| 880/880 [00:13<00:00, 65.88it/s, auprc=0.0118, auroc=0.503]\n",
      "Epoch 9: 100%|█████████████████████████████████████████| 189/189 [00:02<00:00, 89.10it/s]\n"
     ]
    },
    {
     "name": "stdout",
     "output_type": "stream",
     "text": [
      "Best Model Weights Updated: Epoch 9 - Val Loss: 0.5594365462739631\n"
     ]
    },
    {
     "name": "stderr",
     "output_type": "stream",
     "text": [
      "Epoch 10: 100%|█████████████| 880/880 [00:13<00:00, 65.77it/s, auprc=0.0129, auroc=0.504]\n",
      "Epoch 10: 100%|████████████████████████████████████████| 189/189 [00:02<00:00, 85.72it/s]\n"
     ]
    },
    {
     "name": "stdout",
     "output_type": "stream",
     "text": [
      "Best Model Weights Updated: Epoch 10 - Val Loss: 0.5587595844710315\n",
      "Finished Training\n"
     ]
    }
   ],
   "source": [
    "P = PipeLine()\n",
    "P.load(expid='exp4',prepare=True)\n",
    "P.train(num_epochs=10,verbose=[\"auroc\",\"auprc\"])"
   ]
  },
  {
   "cell_type": "code",
   "execution_count": null,
   "id": "06c7f48c-5cd8-41c0-9cdb-4f4c6478384a",
   "metadata": {},
   "outputs": [],
   "source": []
  }
 ],
 "metadata": {
  "kernelspec": {
   "display_name": "Python 3 (ipykernel)",
   "language": "python",
   "name": "python3"
  },
  "language_info": {
   "codemirror_mode": {
    "name": "ipython",
    "version": 3
   },
   "file_extension": ".py",
   "mimetype": "text/x-python",
   "name": "python",
   "nbconvert_exporter": "python",
   "pygments_lexer": "ipython3",
   "version": "3.10.16"
  }
 },
 "nbformat": 4,
 "nbformat_minor": 5
}
